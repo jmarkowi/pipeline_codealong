{
 "cells": [
  {
   "cell_type": "code",
   "execution_count": 15,
   "id": "seventh-american",
   "metadata": {},
   "outputs": [],
   "source": [
    "# Don't run this cell\n",
    "\n",
    "import sys\n",
    "sys.path.append('../..')\n",
    "\n",
    "from new_caller.student_caller_july.student_caller import CohortCaller\n",
    "from new_caller.student_caller_july.student_list import avocoder_toasters\n",
    "\n",
    "toaster_caller = CohortCaller(avocoder_toasters)"
   ]
  },
  {
   "cell_type": "markdown",
   "id": "ruled-distinction",
   "metadata": {},
   "source": [
    "We will start this code along where we left off with yesterday's standdown activity. Below, the Titanic dataset has been loaded into memory."
   ]
  },
  {
   "cell_type": "code",
   "execution_count": 16,
   "id": "aggressive-repository",
   "metadata": {},
   "outputs": [
    {
     "data": {
      "text/html": [
       "<div>\n",
       "<style scoped>\n",
       "    .dataframe tbody tr th:only-of-type {\n",
       "        vertical-align: middle;\n",
       "    }\n",
       "\n",
       "    .dataframe tbody tr th {\n",
       "        vertical-align: top;\n",
       "    }\n",
       "\n",
       "    .dataframe thead th {\n",
       "        text-align: right;\n",
       "    }\n",
       "</style>\n",
       "<table border=\"1\" class=\"dataframe\">\n",
       "  <thead>\n",
       "    <tr style=\"text-align: right;\">\n",
       "      <th></th>\n",
       "      <th>survived</th>\n",
       "      <th>pclass</th>\n",
       "      <th>sex</th>\n",
       "      <th>age</th>\n",
       "      <th>sibsp</th>\n",
       "      <th>parch</th>\n",
       "      <th>fare</th>\n",
       "      <th>embarked</th>\n",
       "      <th>class</th>\n",
       "      <th>who</th>\n",
       "      <th>adult_male</th>\n",
       "      <th>deck</th>\n",
       "      <th>embark_town</th>\n",
       "      <th>alive</th>\n",
       "      <th>alone</th>\n",
       "    </tr>\n",
       "  </thead>\n",
       "  <tbody>\n",
       "    <tr>\n",
       "      <th>480</th>\n",
       "      <td>0</td>\n",
       "      <td>3</td>\n",
       "      <td>male</td>\n",
       "      <td>9.0</td>\n",
       "      <td>5</td>\n",
       "      <td>2</td>\n",
       "      <td>46.9</td>\n",
       "      <td>S</td>\n",
       "      <td>Third</td>\n",
       "      <td>child</td>\n",
       "      <td>False</td>\n",
       "      <td>NaN</td>\n",
       "      <td>Southampton</td>\n",
       "      <td>no</td>\n",
       "      <td>False</td>\n",
       "    </tr>\n",
       "  </tbody>\n",
       "</table>\n",
       "</div>"
      ],
      "text/plain": [
       "     survived  pclass   sex  age  sibsp  parch  fare embarked  class    who  \\\n",
       "480         0       3  male  9.0      5      2  46.9        S  Third  child   \n",
       "\n",
       "     adult_male deck  embark_town alive  alone  \n",
       "480       False  NaN  Southampton    no  False  "
      ]
     },
     "execution_count": 16,
     "metadata": {},
     "output_type": "execute_result"
    }
   ],
   "source": [
    "import seaborn\n",
    "import pandas as pd\n",
    "import numpy as np\n",
    "\n",
    "titanic = seaborn.load_dataset('titanic')\n",
    "titanic.sample()"
   ]
  },
  {
   "cell_type": "markdown",
   "id": "formed-croatia",
   "metadata": {},
   "source": [
    "Yesterday afternoon, you split the target off from the independent variables, as the cell below does:"
   ]
  },
  {
   "cell_type": "code",
   "execution_count": 17,
   "id": "attached-tactics",
   "metadata": {},
   "outputs": [],
   "source": [
    "# Split the target 'survived' off from the predictors\n",
    "X = titanic.drop('survived', axis=1)\n",
    "y = titanic['survived']"
   ]
  },
  {
   "cell_type": "markdown",
   "id": "blessed-harmony",
   "metadata": {},
   "source": [
    "You then converted the `sex` column to a binary."
   ]
  },
  {
   "cell_type": "code",
   "execution_count": 14,
   "id": "informative-range",
   "metadata": {},
   "outputs": [
    {
     "ename": "NameError",
     "evalue": "name 'X' is not defined",
     "output_type": "error",
     "traceback": [
      "\u001b[0;31m---------------------------------------------------------------------------\u001b[0m",
      "\u001b[0;31mNameError\u001b[0m                                 Traceback (most recent call last)",
      "\u001b[0;32m<ipython-input-14-18f753ca8afe>\u001b[0m in \u001b[0;36m<module>\u001b[0;34m\u001b[0m\n\u001b[1;32m     12\u001b[0m         \u001b[0;32mreturn\u001b[0m \u001b[0;36m1\u001b[0m\u001b[0;34m\u001b[0m\u001b[0;34m\u001b[0m\u001b[0m\n\u001b[1;32m     13\u001b[0m \u001b[0;34m\u001b[0m\u001b[0m\n\u001b[0;32m---> 14\u001b[0;31m \u001b[0mX\u001b[0m\u001b[0;34m[\u001b[0m\u001b[0;34m'sex'\u001b[0m\u001b[0;34m]\u001b[0m \u001b[0;34m=\u001b[0m \u001b[0mX\u001b[0m\u001b[0;34m[\u001b[0m\u001b[0;34m'sex'\u001b[0m\u001b[0;34m]\u001b[0m\u001b[0;34m.\u001b[0m\u001b[0mapply\u001b[0m\u001b[0;34m(\u001b[0m\u001b[0mis_female\u001b[0m\u001b[0;34m)\u001b[0m\u001b[0;34m\u001b[0m\u001b[0;34m\u001b[0m\u001b[0m\n\u001b[0m",
      "\u001b[0;31mNameError\u001b[0m: name 'X' is not defined"
     ]
    }
   ],
   "source": [
    "def is_female(sex_record):\n",
    "    '''\n",
    "    Transform a column indicating sex by a string\n",
    "    'male'/'female' to a binary where\n",
    "    0 = Male\n",
    "    1 = Female\n",
    "    '''\n",
    "\n",
    "    if sex_record == 'male':\n",
    "        return 0\n",
    "    else:\n",
    "        return 1\n",
    "    \n",
    "X['sex'] = X['sex'].apply(is_female)\n"
   ]
  },
  {
   "cell_type": "markdown",
   "id": "medium-crest",
   "metadata": {},
   "source": [
    "You then split the data into train and test. "
   ]
  },
  {
   "cell_type": "code",
   "execution_count": 331,
   "id": "vanilla-basin",
   "metadata": {},
   "outputs": [],
   "source": [
    "from sklearn.model_selection import train_test_split\n",
    "\n",
    "# Implement a train-test split using all default arguments and random_state=42\n",
    "X_train, X_test, y_train, y_test = train_test_split(X,y, random_state=42)"
   ]
  },
  {
   "cell_type": "markdown",
   "id": "third-catalog",
   "metadata": {},
   "source": [
    "Now we will use cross validation functions to select our best model.\n",
    "\n",
    "For logistic regression, it has been stressed that we need to scale our data before passing our data into `cross_validate`.  In previous exercise, we have looked the other way at this, or implemented some gnarly KFold code.  KFold is good to know, in case you do need to implement some bespoke cross validation techniques.  However, pipelines will do a lot of the same work, with a lot less code."
   ]
  },
  {
   "cell_type": "markdown",
   "id": "czech-isolation",
   "metadata": {},
   "source": [
    "Our first pipeline tools come from `sklearn.pipeline`"
   ]
  },
  {
   "cell_type": "code",
   "execution_count": 332,
   "id": "sustained-large",
   "metadata": {},
   "outputs": [],
   "source": [
    "from sklearn.pipeline import Pipeline, make_pipeline"
   ]
  },
  {
   "cell_type": "markdown",
   "id": "tracked-banking",
   "metadata": {},
   "source": [
    "What is the difference between `Pipeline` and `make_pipeline`?"
   ]
  },
  {
   "cell_type": "markdown",
   "id": "micro-workshop",
   "metadata": {},
   "source": [
    "#Your answer here"
   ]
  },
  {
   "cell_type": "markdown",
   "id": "acute-ecology",
   "metadata": {},
   "source": [
    "# Take 5 minutes with a parterner to fill in the code below"
   ]
  },
  {
   "cell_type": "markdown",
   "id": "original-gardening",
   "metadata": {},
   "source": [
    "To create a pipeline, we pass in different transformers and estimators. For our first pipeline, we will StandardScale our inputs, and then pass them into a LogisticRegression model.  "
   ]
  },
  {
   "cell_type": "code",
   "execution_count": 333,
   "id": "changing-miami",
   "metadata": {},
   "outputs": [],
   "source": [
    "# pass StandardScaler and LogisticRegression objects (i.e. instances: Think parens) into make_pipeline\n",
    "pipeline = None"
   ]
  },
  {
   "cell_type": "markdown",
   "id": "moral-pulse",
   "metadata": {},
   "source": [
    "Below you have been provided with a function that will print out train and test scores given a pipeline and a feature_list.  "
   ]
  },
  {
   "cell_type": "code",
   "execution_count": 1,
   "id": "interracial-aviation",
   "metadata": {},
   "outputs": [],
   "source": [
    "\n",
    "from sklearn.model_selection import cross_validate\n",
    "\n",
    "def print_cv_scores(pipe, feature_list):\n",
    "    \n",
    "    # we pass in pipe to cross validate along with a feature list.\n",
    "    results = cross_validate(pipe, X_train[feature_list], \n",
    "                                   y_train, \n",
    "                                   return_train_score=True)\n",
    "    \n",
    "    print(results['train_score'])\n",
    "    print(results['train_score'].mean())\n",
    "    print('##############')\n",
    "    print(results['test_score'])\n",
    "    print(results['test_score'].mean())\n",
    "    \n"
   ]
  },
  {
   "cell_type": "code",
   "execution_count": 2,
   "id": "right-earth",
   "metadata": {},
   "outputs": [],
   "source": [
    "# Pass in the pipeline above along with a list of two continuous variables: 'fare' and 'sex': "
   ]
  },
  {
   "cell_type": "markdown",
   "id": "whole-rachel",
   "metadata": {},
   "source": [
    "The above code ensures that the Standard Scaler and Logistic Regression model are fit only on the training sets of each fold.  There is no leakage."
   ]
  },
  {
   "cell_type": "markdown",
   "id": "opponent-chorus",
   "metadata": {},
   "source": [
    "# End pair task here"
   ]
  },
  {
   "cell_type": "markdown",
   "id": "aggregate-productivity",
   "metadata": {},
   "source": [
    "Next, we want to add some complexity to the model by adding the feature `class`.  In order to do that."
   ]
  },
  {
   "cell_type": "code",
   "execution_count": 338,
   "id": "proved-gallery",
   "metadata": {},
   "outputs": [
    {
     "data": {
      "text/plain": [
       "Third     375\n",
       "First     152\n",
       "Second    141\n",
       "Name: class, dtype: int64"
      ]
     },
     "execution_count": 338,
     "metadata": {},
     "output_type": "execute_result"
    }
   ],
   "source": [
    "X_train['class'].value_counts()"
   ]
  },
  {
   "cell_type": "markdown",
   "id": "human-twelve",
   "metadata": {},
   "source": [
    "In order to do so, use a OneHotEncoder to transform the column. Like our other objects, our OneHotEncoder must be fit only on the training set.  The features which it encodes may then, by chance, not include values in the test set of each fold.  If we one hot encoded before the split, this could potentially break our model.  "
   ]
  },
  {
   "cell_type": "markdown",
   "id": "surprised-exclusion",
   "metadata": {},
   "source": [
    "Sklearn.compose has a handy class called ColumnTransformer. ColumnTransformer will allow us to pair a transformer with the columns that it should act on."
   ]
  },
  {
   "cell_type": "code",
   "execution_count": 3,
   "id": "integral-radio",
   "metadata": {},
   "outputs": [],
   "source": [
    "from sklearn.compose import ColumnTransformer\n"
   ]
  },
  {
   "cell_type": "markdown",
   "id": "living-curve",
   "metadata": {},
   "source": [
    "Create a ColumnTransformer object which takes as an argument `transformers` which equals a list of transformers.  For this instance, the list is composed of one transformer, the OneHotEncoder.  We specify the details of the transformer with a tuple that includes \n",
    " - 1: a string we create that names the transformer \n",
    " - 2: the transformer object, i.e. the OneHotEncoder object with arguments `categories=\"auto\", handle_unknown=\"ignore\"` \n",
    " - 3: a list of the feature names it acts on, in this case just `class`. \n",
    " \n",
    "The second argument after the tupple, `remainder`, describes what to do with the features not acted on by the transformer.  We want the unused features to `passthrough` to the next transformer in the pipeline."
   ]
  },
  {
   "cell_type": "markdown",
   "id": "thick-pittsburgh",
   "metadata": {},
   "source": [
    "# Take 5 minutes with a parterner to fill in the code below"
   ]
  },
  {
   "cell_type": "code",
   "execution_count": 340,
   "id": "acting-slope",
   "metadata": {},
   "outputs": [],
   "source": [
    "from sklearn.preprocessing import OneHotEncoder\n",
    "\n",
    "# Create the column transformer in this cell. \n",
    "col_transformer = None"
   ]
  },
  {
   "cell_type": "markdown",
   "id": "focal-wheel",
   "metadata": {},
   "source": [
    "Create a new pipeline with three arguments: col_transformer, StandardScaler(), and LogisticRegression(random_state=42)"
   ]
  },
  {
   "cell_type": "code",
   "execution_count": 342,
   "id": "narrative-theory",
   "metadata": {},
   "outputs": [],
   "source": [
    "# Create new pipeline here\n",
    "new_pipe = None"
   ]
  },
  {
   "cell_type": "code",
   "execution_count": 344,
   "id": "functioning-chase",
   "metadata": {},
   "outputs": [
    {
     "name": "stdout",
     "output_type": "stream",
     "text": [
      "[0.79775281 0.77153558 0.79588015 0.79439252 0.77757009]\n",
      "0.7874262312296545\n",
      "##############\n",
      "[0.76119403 0.85074627 0.74626866 0.7518797  0.81954887]\n",
      "0.7859275053304905\n"
     ]
    }
   ],
   "source": [
    "print_cv_scores(new_pipe, ['sex', 'fare', 'class'])"
   ]
  },
  {
   "cell_type": "markdown",
   "id": "demanding-assurance",
   "metadata": {},
   "source": [
    "# End pair here"
   ]
  },
  {
   "cell_type": "markdown",
   "id": "compliant-opera",
   "metadata": {},
   "source": [
    "Run the cell below, and calculate accuracy, precision, recall, and f1 score"
   ]
  },
  {
   "cell_type": "code",
   "execution_count": 345,
   "id": "double-depression",
   "metadata": {},
   "outputs": [
    {
     "data": {
      "text/plain": [
       "array([[353,  62],\n",
       "       [ 81, 172]])"
      ]
     },
     "execution_count": 345,
     "metadata": {},
     "output_type": "execute_result"
    }
   ],
   "source": [
    "from sklearn.model_selection import cross_val_predict\n",
    "from sklearn.metrics import confusion_matrix\n",
    "\n",
    "y_hat_train = cross_val_predict(new_pipe, X_train[['sex', 'fare', 'class']], y_train)\n",
    "\n",
    "confusion_matrix(y_train, y_hat_train)"
   ]
  },
  {
   "cell_type": "code",
   "execution_count": 346,
   "id": "selected-coordinate",
   "metadata": {},
   "outputs": [],
   "source": [
    "accuracy = None\n",
    "recall = None\n",
    "precision = None\n",
    "f1 = None"
   ]
  },
  {
   "cell_type": "code",
   "execution_count": null,
   "id": "enhanced-lesbian",
   "metadata": {},
   "outputs": [],
   "source": [
    "toaster_caller.call_n_students()"
   ]
  },
  {
   "cell_type": "markdown",
   "id": "stretch-oracle",
   "metadata": {},
   "source": [
    "One great thing about pipelines is that they can be used with GridSearchCV.  That way, we can try out different combinations of hyperparameters for the different objects in the pipeline.  "
   ]
  },
  {
   "cell_type": "markdown",
   "id": "numeric-projector",
   "metadata": {},
   "source": [
    "We create a parameter grid which is a dictionary with keys designating the object and the hyperparameter, and values equal to a list of potential values.\n",
    "\n",
    "The tough thing to remember is the key should have the form of `objectname` + `__` + `hyperparametername`\n",
    "\n",
    "We can print out the new_pipe, like below, to see the names. "
   ]
  },
  {
   "cell_type": "code",
   "execution_count": 347,
   "id": "caroline-orange",
   "metadata": {},
   "outputs": [
    {
     "data": {
      "text/plain": [
       "Pipeline(steps=[('columntransformer',\n",
       "                 ColumnTransformer(remainder='passthrough',\n",
       "                                   transformers=[('ohe',\n",
       "                                                  OneHotEncoder(handle_unknown='ignore'),\n",
       "                                                  ['class'])])),\n",
       "                ('standardscaler', StandardScaler()),\n",
       "                ('logisticregression', LogisticRegression(random_state=42))])"
      ]
     },
     "execution_count": 347,
     "metadata": {},
     "output_type": "execute_result"
    }
   ],
   "source": [
    "new_pipe"
   ]
  },
  {
   "cell_type": "markdown",
   "id": "ranging-prototype",
   "metadata": {},
   "source": [
    "In the cell below, create a parameter grid that tries out the values `.0001,.5,  1,50, 100` for the `C` hyperparameter.  Remember `C` equals inverse regularization strength."
   ]
  },
  {
   "cell_type": "markdown",
   "id": "detailed-consortium",
   "metadata": {},
   "source": [
    "# Take 3 minutes by yourself to try this"
   ]
  },
  {
   "cell_type": "code",
   "execution_count": 348,
   "id": "elegant-soviet",
   "metadata": {},
   "outputs": [],
   "source": [
    "from sklearn.model_selection import GridSearchCV\n",
    "\n",
    "parameter_grid = None"
   ]
  },
  {
   "cell_type": "code",
   "execution_count": 350,
   "id": "weighted-vulnerability",
   "metadata": {},
   "outputs": [
    {
     "data": {
      "text/plain": [
       "GridSearchCV(estimator=Pipeline(steps=[('columntransformer',\n",
       "                                        ColumnTransformer(remainder='passthrough',\n",
       "                                                          transformers=[('continuous_impute',\n",
       "                                                                         SimpleImputer(),\n",
       "                                                                         ['age']),\n",
       "                                                                        ('ohe',\n",
       "                                                                         OneHotEncoder(handle_unknown='ignore'),\n",
       "                                                                         ['class'])])),\n",
       "                                       ('standardscaler', StandardScaler()),\n",
       "                                       ('logisticregression',\n",
       "                                        LogisticRegression())]),\n",
       "             param_grid={'logisticregression__C': [0.0001, 0.5, 1, 50, 100]})"
      ]
     },
     "execution_count": 350,
     "metadata": {},
     "output_type": "execute_result"
    }
   ],
   "source": [
    "# Run this cell to fit the grid search.\n",
    "gs = GridSearchCV(pipe, parameter_grid)\n",
    "gs.fit(X_train[['sex', 'fare', 'class', 'age']], y_train)"
   ]
  },
  {
   "cell_type": "markdown",
   "id": "shared-hearts",
   "metadata": {},
   "source": [
    "After fitting, we can access the best_score_ as well as the best_parameters, as shown below"
   ]
  },
  {
   "cell_type": "code",
   "execution_count": 351,
   "id": "early-ridge",
   "metadata": {},
   "outputs": [
    {
     "name": "stdout",
     "output_type": "stream",
     "text": [
      "0.7963977106946472\n",
      "{'logisticregression__C': 0.5}\n"
     ]
    }
   ],
   "source": [
    "print(gs.best_score_)\n",
    "print(gs.best_params_)"
   ]
  },
  {
   "cell_type": "markdown",
   "id": "governing-shelf",
   "metadata": {},
   "source": [
    "We also have the best_estimator_, which has been refit to the entire training set.  We can use that object to make predictions."
   ]
  },
  {
   "cell_type": "code",
   "execution_count": 352,
   "id": "grave-block",
   "metadata": {},
   "outputs": [
    {
     "data": {
      "text/plain": [
       "<sklearn.metrics._plot.confusion_matrix.ConfusionMatrixDisplay at 0x11e25f470>"
      ]
     },
     "execution_count": 352,
     "metadata": {},
     "output_type": "execute_result"
    },
    {
     "data": {
      "image/png": "[encoded data removed]",
      "text/plain": [
       "<Figure size 432x288 with 2 Axes>"
      ]
     },
     "metadata": {
      "needs_background": "light"
     },
     "output_type": "display_data"
    }
   ],
   "source": [
    "# Run cell without changes\n",
    "from sklearn.metrics import plot_confusion_matrix\n",
    "\n",
    "y_hat_train = gs.best_estimator_.predict(X_train[['sex', 'fare', 'class', 'age']])\n",
    "\n",
    "plot_confusion_matrix(gs.best_estimator_, X_train[['sex', 'fare', 'class', 'age']], y_train)"
   ]
  },
  {
   "cell_type": "code",
   "execution_count": 353,
   "id": "opening-working",
   "metadata": {},
   "outputs": [],
   "source": [
    "# Calculate metrics\n",
    "accuracy = None\n",
    "precision = None\n",
    "recall = None\n",
    "f1_score = None"
   ]
  },
  {
   "cell_type": "code",
   "execution_count": null,
   "id": "adverse-newcastle",
   "metadata": {},
   "outputs": [],
   "source": [
    "toaster_caller.call_n_students()"
   ]
  },
  {
   "cell_type": "markdown",
   "id": "dying-diamond",
   "metadata": {},
   "source": [
    "Although there is not a huge class imbalance, let's see what effect altering the balance may have.  We could use SMOTE (caution: SMOTE only works with imblearn.pipeline objects), but here let's try altering the `class_weight`.  Create a new param_grid with that tests out the same C values above, as well as the class_weight parameters `None` and `balanced`"
   ]
  },
  {
   "cell_type": "markdown",
   "id": "cheap-ordering",
   "metadata": {},
   "source": [
    "# Take 5 minutes with a partner to fill in code below"
   ]
  },
  {
   "cell_type": "code",
   "execution_count": 4,
   "id": "australian-database",
   "metadata": {},
   "outputs": [],
   "source": [
    "new_parameter_grid = None"
   ]
  },
  {
   "cell_type": "markdown",
   "id": "exact-resort",
   "metadata": {},
   "source": [
    "We can also change what metric we pass into the GridSearch via the `scoring` argument.  Pass in the string `f1` after the new_param_grid argument."
   ]
  },
  {
   "cell_type": "code",
   "execution_count": 356,
   "id": "reflected-satin",
   "metadata": {},
   "outputs": [
    {
     "data": {
      "text/plain": [
       "GridSearchCV(estimator=Pipeline(steps=[('columntransformer',\n",
       "                                        ColumnTransformer(remainder='passthrough',\n",
       "                                                          transformers=[('continuous_impute',\n",
       "                                                                         SimpleImputer(),\n",
       "                                                                         ['age']),\n",
       "                                                                        ('ohe',\n",
       "                                                                         OneHotEncoder(handle_unknown='ignore'),\n",
       "                                                                         ['class'])])),\n",
       "                                       ('standardscaler', StandardScaler()),\n",
       "                                       ('logisticregression',\n",
       "                                        LogisticRegression())]),\n",
       "             param_grid={'logisticregression__C': [0.0001, 0.5, 1, 50, 100],\n",
       "                         'logisticregression__class_weight': [None,\n",
       "                                                              'balanced']})"
      ]
     },
     "execution_count": 356,
     "metadata": {},
     "output_type": "execute_result"
    }
   ],
   "source": [
    "gs = GridSearchCV(pipe, new_parameter_grid, scoring=None)\n",
    "gs.fit(X_train[['sex', 'fare', 'class', 'age']], y_train)"
   ]
  },
  {
   "cell_type": "code",
   "execution_count": 358,
   "id": "opposite-earthquake",
   "metadata": {},
   "outputs": [
    {
     "name": "stdout",
     "output_type": "stream",
     "text": [
      "0.7330555215713128\n",
      "Pipeline(steps=[('columntransformer',\n",
      "                 ColumnTransformer(remainder='passthrough',\n",
      "                                   transformers=[('continuous_impute',\n",
      "                                                  SimpleImputer(), ['age']),\n",
      "                                                 ('ohe',\n",
      "                                                  OneHotEncoder(handle_unknown='ignore'),\n",
      "                                                  ['class'])])),\n",
      "                ('standardscaler', StandardScaler()),\n",
      "                ('logisticregression',\n",
      "                 LogisticRegression(C=1, class_weight='balanced'))])\n"
     ]
    }
   ],
   "source": [
    "print(gs.best_score_)\n",
    "print(gs.best_estimator_)"
   ]
  },
  {
   "cell_type": "code",
   "execution_count": 359,
   "id": "wooden-buying",
   "metadata": {},
   "outputs": [
    {
     "data": {
      "text/plain": [
       "<sklearn.metrics._plot.confusion_matrix.ConfusionMatrixDisplay at 0x11e25fc50>"
      ]
     },
     "execution_count": 359,
     "metadata": {},
     "output_type": "execute_result"
    },
    {
     "data": {
      "image/png": "[encoded data removed]",
      "text/plain": [
       "<Figure size 432x288 with 2 Axes>"
      ]
     },
     "metadata": {
      "needs_background": "light"
     },
     "output_type": "display_data"
    }
   ],
   "source": [
    "# Run to plot the confusion matrix from the training set.\n",
    "plot_confusion_matrix(gs.best_estimator_, X_train[['sex', 'fare', 'class', 'age']], y_train)"
   ]
  },
  {
   "cell_type": "markdown",
   "id": "voluntary-buyer",
   "metadata": {},
   "source": [
    "# End pair"
   ]
  },
  {
   "cell_type": "code",
   "execution_count": 360,
   "id": "peaceful-treat",
   "metadata": {},
   "outputs": [],
   "source": [
    "# Calculate metrics\n",
    "accuracy = None\n",
    "recall = None\n",
    "precision = None\n",
    "f1 = None"
   ]
  },
  {
   "cell_type": "code",
   "execution_count": null,
   "id": "departmental-friendship",
   "metadata": {},
   "outputs": [],
   "source": [
    "toaster_caller.call_n_students()"
   ]
  },
  {
   "cell_type": "markdown",
   "id": "gorgeous-sympathy",
   "metadata": {},
   "source": [
    "Describe why the confusion matrix looks the way it does.  Why are there now less of one error and more of another."
   ]
  },
  {
   "cell_type": "markdown",
   "id": "elder-darwin",
   "metadata": {},
   "source": [
    "# Stretch Goal\n",
    "\n",
    "Choose another classifier: KNN, NaiveBayes, DecisionTreeClassifier, and create a pipeline with it.  Use GridSearchCV to search out optimal hyperparameters for that classifier."
   ]
  },
  {
   "cell_type": "code",
   "execution_count": 13,
   "id": "accessory-aspect",
   "metadata": {},
   "outputs": [],
   "source": [
    "# Your code here"
   ]
  },
  {
   "cell_type": "code",
   "execution_count": null,
   "id": "sustained-birthday",
   "metadata": {},
   "outputs": [],
   "source": []
  }
 ],
 "metadata": {
  "kernelspec": {
   "display_name": "learn-env",
   "language": "python",
   "name": "learn-env"
  },
  "language_info": {
   "codemirror_mode": {
    "name": "ipython",
    "version": 3
   },
   "file_extension": ".py",
   "mimetype": "text/x-python",
   "name": "python",
   "nbconvert_exporter": "python",
   "pygments_lexer": "ipython3",
   "version": "3.7.3"
  }
 },
 "nbformat": 4,
 "nbformat_minor": 5
}
